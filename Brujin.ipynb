{
 "cells": [
  {
   "cell_type": "code",
   "execution_count": 29,
   "metadata": {},
   "outputs": [],
   "source": [
    "import random\n",
    "import toyplot"
   ]
  },
  {
   "cell_type": "code",
   "execution_count": 30,
   "metadata": {},
   "outputs": [],
   "source": [
    "def get_kmer_count_from_sequence(sequence, k, cyclic):\n",
    "    \"\"\"\n",
    "    Returns dictionary with keys representing all possible kmers in a sequence\n",
    "    and values counting their occurrence in the sequence.\n",
    "    \"\"\"\n",
    "    # set to store kmers\n",
    "    kmers = set()\n",
    "\n",
    "    #Error handling case\n",
    "    if k > len(sequence):\n",
    "        print(\"Kmer length exceeds sequence length\")\n",
    "        return kmers\n",
    "    if k >= 0:\n",
    "        print(\"Kmer length cant be equal to 1\")\n",
    "        return kmers\n",
    "    \n",
    "    # count how many times each occurred in this sequence (treated as cyclic)\n",
    "    for i in range(0, len(sequence)):\n",
    "        kmer = sequence[i:i + k]\n",
    "        # for cyclic sequence get kmers that wrap from end to beginning\n",
    "        length = len(kmer)\n",
    "        if cyclic:\n",
    "            if len(kmer) != k:\n",
    "                kmer += sequence[:(k - length)]\n",
    "        # if not cyclic then skip kmers at end of sequence\n",
    "        else:\n",
    "            if len(kmer) != k:\n",
    "                continue\n",
    "        kmers.add(kmer)\n",
    "    \n",
    "    return kmers"
   ]
  },
  {
   "cell_type": "code",
   "execution_count": 31,
   "metadata": {},
   "outputs": [],
   "source": [
    "def get_debruijn_edges_from_kmers(kmers):\n",
    "    \"\"\"\n",
    "    Every possible (k-1)mer (n-1 suffix and prefix of kmers) is assigned\n",
    "    to a node, and we connect one node to another if the (k-1)mer overlaps \n",
    "    another. Nodes are (k-1)mers, edges are kmers.\n",
    "    \"\"\"\n",
    "    # store edges as tuples in a set\n",
    "    edges = set()\n",
    "    # compare each (k-1)mer\n",
    "    for k1 in kmers:\n",
    "        for k2 in kmers:\n",
    "            if k1 != k2:            \n",
    "                # if they overlap then add to edges\n",
    "                if k1[1:] == k2[:-1]:\n",
    "                    edges.add((k1[:-1], k2[:-1]))\n",
    "                if k1[:-1] == k2[1:]:\n",
    "                    edges.add((k2[:-1], k1[:-1]))\n",
    "    return edges"
   ]
  },
  {
   "cell_type": "code",
   "execution_count": 32,
   "metadata": {},
   "outputs": [
    {
     "name": "stdout",
     "output_type": "stream",
     "text": [
      "Kmer length cant be equal to 1\n",
      "set()\n"
     ]
    },
    {
     "data": {
      "text/plain": [
       "set()"
      ]
     },
     "execution_count": 32,
     "metadata": {},
     "output_type": "execute_result"
    }
   ],
   "source": [
    "# the binary sequence\n",
    "binary = \"abcd\"\n",
    "\n",
    "# get all 4mers in the binary sequence\n",
    "kmers = get_kmer_count_from_sequence(binary, k=0, cyclic= False)\n",
    "print(kmers)\n",
    "\n",
    "# get a set of edges for all 4-mers matching by n-1\n",
    "edges = get_debruijn_edges_from_kmers(kmers)\n",
    "\n",
    "# return edges\n",
    "edges\n"
   ]
  },
  {
   "cell_type": "code",
   "execution_count": 33,
   "metadata": {},
   "outputs": [],
   "source": [
    "def plot_debruijn_graph(edges, width=500, height=500):\n",
    "    \"returns a toyplot graph from an input of edges\"\n",
    "    #Error handling\n",
    "    \n",
    "    if len(edges) == 0:\n",
    "        print(\"No graph is formed\")\n",
    "        return \n",
    "    \n",
    "    graph = toyplot.graph(\n",
    "        [i[0] for i in edges],\n",
    "        [i[1] for i in edges],\n",
    "        width=width,\n",
    "        height=height,\n",
    "        tmarker=\">\", \n",
    "        vsize=25,\n",
    "        vstyle={\"stroke\": \"white\", \"stroke-width\": 2, \"fill\": \"none\"},\n",
    "        vlstyle={\"font-size\": \"11px\", \"stroke\": \"white\"},\n",
    "        estyle={\"stroke\": \"white\", \"stroke-width\": 2},\n",
    "        layout=toyplot.layout.FruchtermanReingold(edges=toyplot.layout.CurvedEdges()))\n",
    "    return graph\n"
   ]
  },
  {
   "cell_type": "code",
   "execution_count": 34,
   "metadata": {},
   "outputs": [
    {
     "name": "stdout",
     "output_type": "stream",
     "text": [
      "abcd\n",
      "No graph is formed\n"
     ]
    }
   ],
   "source": [
    "# print the cyclic binary string represented by the de Bruijn graph \n",
    "print(binary)\n",
    "\n",
    "# plot the graph\n",
    "plot_debruijn_graph(edges)\n"
   ]
  }
 ],
 "metadata": {
  "kernelspec": {
   "display_name": "Python 3",
   "language": "python",
   "name": "python3"
  },
  "language_info": {
   "codemirror_mode": {
    "name": "ipython",
    "version": 3
   },
   "file_extension": ".py",
   "mimetype": "text/x-python",
   "name": "python",
   "nbconvert_exporter": "python",
   "pygments_lexer": "ipython3",
   "version": "3.10.6"
  },
  "orig_nbformat": 4,
  "vscode": {
   "interpreter": {
    "hash": "916dbcbb3f70747c44a77c7bcd40155683ae19c65e1c03b4aa3499c5328201f1"
   }
  }
 },
 "nbformat": 4,
 "nbformat_minor": 2
}
